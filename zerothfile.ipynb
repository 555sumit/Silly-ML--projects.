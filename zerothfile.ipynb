{
  "nbformat": 4,
  "nbformat_minor": 0,
  "metadata": {
    "colab": {
      "provenance": [],
      "authorship_tag": "ABX9TyPMr8gac6hiGbjX9SepqYwL"
    },
    "kernelspec": {
      "name": "python3",
      "display_name": "Python 3"
    },
    "language_info": {
      "name": "python"
    }
  },
  "cells": [
    {
      "cell_type": "code",
      "execution_count": null,
      "metadata": {
        "id": "ImQd0wEfK_Nl"
      },
      "outputs": [],
      "source": [
        "import pandas as pd\n",
        "from sklearn.preprocessing import LabelEncoder, StandardScaler\n",
        "\n",
        "# Load your data\n",
        "df = pd.read_csv('customer_booking.csv', encoding='latin1')\n",
        "\n",
        "# Make a copy\n",
        "df_preprocessed = df.copy()\n",
        "\n",
        "# Encode categorical columns\n",
        "categorical_cols = ['sales_channel', 'trip_type', 'flight_day', 'route', 'booking_origin']\n",
        "label_encoders = {}\n",
        "for col in categorical_cols:\n",
        "    le = LabelEncoder()\n",
        "    df_preprocessed[col] = le.fit_transform(df_preprocessed[col])\n",
        "    label_encoders[col] = le\n",
        "\n",
        "# Scale numerical columns\n",
        "numeric_cols = ['num_passengers', 'purchase_lead', 'length_of_stay',\n",
        "                'flight_hour', 'flight_duration']\n",
        "scaler = StandardScaler()\n",
        "df_preprocessed[numeric_cols] = scaler.fit_transform(df_preprocessed[numeric_cols])\n",
        "\n",
        "# Save to CSV\n",
        "df_preprocessed.to_csv('customer_booking_preprocessed.csv', index=False)\n",
        "\n",
        "print(\"File saved as customer_booking_preprocessed.csv\")\n"
      ]
    }
  ]
}